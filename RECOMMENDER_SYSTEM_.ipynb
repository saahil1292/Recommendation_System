{
 "cells": [
  {
   "cell_type": "code",
   "execution_count": 1,
   "metadata": {
    "collapsed": false
   },
   "outputs": [],
   "source": [
    "# Future Imports\n",
    "from __future__ import division, print_function, absolute_import, unicode_literals\n",
    "\n",
    "# Data Cleaning\n",
    "from pandas import read_csv, DataFrame, pivot_table\n",
    "from numpy import NaN, array\n",
    "\n",
    "# Pairwise-Distance\n",
    "from sklearn.metrics.pairwise import pairwise_distances\n",
    "from scipy.spatial.distance import correlation\n",
    "\n",
    "# Data Visualization\n",
    "import matplotlib.pyplot as plt\n",
    "%matplotlib inline\n",
    "import seaborn as sns\n",
    "\n",
    "# Removing Warnings\n",
    "import warnings\n",
    "warnings.filterwarnings('ignore')"
   ]
  },
  {
   "cell_type": "code",
   "execution_count": 2,
   "metadata": {
    "collapsed": true
   },
   "outputs": [],
   "source": [
    "def dataset_load(filepath):\n",
    "    ''' Loads the Dataset\n",
    "        ----------\n",
    "        Parameter: string\n",
    "        ----------\n",
    "        Return: dataframe\n",
    "    '''\n",
    "    filepath = \"./\" +filepath+ '.csv'\n",
    "    dataframe = read_csv(filepath)\n",
    "    return dataframe\n",
    "\n",
    "dataframe = dataset_load('reddit_data')"
   ]
  },
  {
   "cell_type": "code",
   "execution_count": 3,
   "metadata": {
    "collapsed": false
   },
   "outputs": [
    {
     "data": {
      "text/html": [
       "<div>\n",
       "<style>\n",
       "    .dataframe thead tr:only-child th {\n",
       "        text-align: right;\n",
       "    }\n",
       "\n",
       "    .dataframe thead th {\n",
       "        text-align: left;\n",
       "    }\n",
       "\n",
       "    .dataframe tbody tr th {\n",
       "        vertical-align: top;\n",
       "    }\n",
       "</style>\n",
       "<table border=\"1\" class=\"dataframe\">\n",
       "  <thead>\n",
       "    <tr style=\"text-align: right;\">\n",
       "      <th></th>\n",
       "      <th>username</th>\n",
       "      <th>subreddit</th>\n",
       "      <th>utc</th>\n",
       "    </tr>\n",
       "  </thead>\n",
       "  <tbody>\n",
       "    <tr>\n",
       "      <th>0</th>\n",
       "      <td>kabanossi</td>\n",
       "      <td>photoshopbattles</td>\n",
       "      <td>1.482748e+09</td>\n",
       "    </tr>\n",
       "    <tr>\n",
       "      <th>1</th>\n",
       "      <td>kabanossi</td>\n",
       "      <td>GetMotivated</td>\n",
       "      <td>1.482748e+09</td>\n",
       "    </tr>\n",
       "    <tr>\n",
       "      <th>2</th>\n",
       "      <td>kabanossi</td>\n",
       "      <td>vmware</td>\n",
       "      <td>1.482748e+09</td>\n",
       "    </tr>\n",
       "    <tr>\n",
       "      <th>3</th>\n",
       "      <td>kabanossi</td>\n",
       "      <td>carporn</td>\n",
       "      <td>1.482748e+09</td>\n",
       "    </tr>\n",
       "    <tr>\n",
       "      <th>4</th>\n",
       "      <td>kabanossi</td>\n",
       "      <td>DIY</td>\n",
       "      <td>1.482747e+09</td>\n",
       "    </tr>\n",
       "  </tbody>\n",
       "</table>\n",
       "</div>"
      ],
      "text/plain": [
       "    username         subreddit           utc\n",
       "0  kabanossi  photoshopbattles  1.482748e+09\n",
       "1  kabanossi      GetMotivated  1.482748e+09\n",
       "2  kabanossi            vmware  1.482748e+09\n",
       "3  kabanossi           carporn  1.482748e+09\n",
       "4  kabanossi               DIY  1.482747e+09"
      ]
     },
     "execution_count": 3,
     "metadata": {},
     "output_type": "execute_result"
    }
   ],
   "source": [
    "dataframe.head()"
   ]
  },
  {
   "cell_type": "code",
   "execution_count": 4,
   "metadata": {
    "collapsed": false
   },
   "outputs": [
    {
     "name": "stdout",
     "output_type": "stream",
     "text": [
      "<class 'pandas.core.frame.DataFrame'>\n",
      "RangeIndex: 14000000 entries, 0 to 13999999\n",
      "Data columns (total 3 columns):\n",
      "username     object\n",
      "subreddit    object\n",
      "utc          float64\n",
      "dtypes: float64(1), object(2)\n",
      "memory usage: 320.4+ MB\n"
     ]
    }
   ],
   "source": [
    "dataframe.info()"
   ]
  },
  {
   "cell_type": "code",
   "execution_count": 5,
   "metadata": {
    "collapsed": false
   },
   "outputs": [
    {
     "data": {
      "text/html": [
       "<div>\n",
       "<style>\n",
       "    .dataframe thead tr:only-child th {\n",
       "        text-align: right;\n",
       "    }\n",
       "\n",
       "    .dataframe thead th {\n",
       "        text-align: left;\n",
       "    }\n",
       "\n",
       "    .dataframe tbody tr th {\n",
       "        vertical-align: top;\n",
       "    }\n",
       "</style>\n",
       "<table border=\"1\" class=\"dataframe\">\n",
       "  <thead>\n",
       "    <tr style=\"text-align: right;\">\n",
       "      <th></th>\n",
       "      <th>username</th>\n",
       "      <th>subreddit</th>\n",
       "    </tr>\n",
       "  </thead>\n",
       "  <tbody>\n",
       "    <tr>\n",
       "      <th>count</th>\n",
       "      <td>14000000</td>\n",
       "      <td>14000000</td>\n",
       "    </tr>\n",
       "    <tr>\n",
       "      <th>unique</th>\n",
       "      <td>22610</td>\n",
       "      <td>34967</td>\n",
       "    </tr>\n",
       "    <tr>\n",
       "      <th>top</th>\n",
       "      <td>Benphyre</td>\n",
       "      <td>AskReddit</td>\n",
       "    </tr>\n",
       "    <tr>\n",
       "      <th>freq</th>\n",
       "      <td>1000</td>\n",
       "      <td>1030290</td>\n",
       "    </tr>\n",
       "  </tbody>\n",
       "</table>\n",
       "</div>"
      ],
      "text/plain": [
       "        username  subreddit\n",
       "count   14000000   14000000\n",
       "unique     22610      34967\n",
       "top     Benphyre  AskReddit\n",
       "freq        1000    1030290"
      ]
     },
     "execution_count": 5,
     "metadata": {},
     "output_type": "execute_result"
    }
   ],
   "source": [
    "dataframe.describe(include=['O'])"
   ]
  },
  {
   "cell_type": "markdown",
   "metadata": {},
   "source": [
    "#### Total Number of Unique Users are 22610\n",
    "#### Total Number of Unique Subreddits are 34967"
   ]
  },
  {
   "cell_type": "code",
   "execution_count": 6,
   "metadata": {
    "collapsed": false
   },
   "outputs": [],
   "source": [
    "username = dataframe.groupby(['username'])['subreddit'].nunique() #.value_counts()"
   ]
  },
  {
   "cell_type": "code",
   "execution_count": 7,
   "metadata": {
    "collapsed": false
   },
   "outputs": [],
   "source": [
    "subreddits = dataframe.groupby(['subreddit'])['username'].nunique()"
   ]
  },
  {
   "cell_type": "code",
   "execution_count": 8,
   "metadata": {
    "collapsed": false
   },
   "outputs": [],
   "source": [
    "top_ten_users = username.sort_values(ascending=False)[:10]"
   ]
  },
  {
   "cell_type": "markdown",
   "metadata": {},
   "source": [
    "### Users with highest Subreddit Count"
   ]
  },
  {
   "cell_type": "code",
   "execution_count": 9,
   "metadata": {
    "collapsed": false
   },
   "outputs": [
    {
     "data": {
      "image/png": "[encoded data removed]",
      "text/plain": [
       "<matplotlib.figure.Figure at 0x7f22e4039fd0>"
      ]
     },
     "metadata": {},
     "output_type": "display_data"
    }
   ],
   "source": [
    "p = top_ten_users.plot(kind='bar', figsize=(12,5), color=sns.color_palette()[0], fontsize=10)\n",
    "_ = p.set(xlabel='Username', ylabel='Count of SubReddits')"
   ]
  },
  {
   "cell_type": "code",
   "execution_count": 10,
   "metadata": {
    "collapsed": true
   },
   "outputs": [],
   "source": [
    "top_ten_subreddits = subreddits.sort_values(ascending=False)[:10]"
   ]
  },
  {
   "cell_type": "markdown",
   "metadata": {},
   "source": [
    "### Subreddits with highest Frequency"
   ]
  },
  {
   "cell_type": "code",
   "execution_count": 11,
   "metadata": {
    "collapsed": false,
    "scrolled": true
   },
   "outputs": [
    {
     "data": {
      "image/png": "[encoded data removed]",
      "text/plain": [
       "<matplotlib.figure.Figure at 0x7f22bead5ad0>"
      ]
     },
     "metadata": {},
     "output_type": "display_data"
    }
   ],
   "source": [
    "p = top_ten_subreddits.plot(kind='bar', figsize=(12,5), color=sns.color_palette()[3], fontsize=10)\n",
    "_ = p.set(ylabel='Count of Users', xlabel='SubReddits')"
   ]
  },
  {
   "cell_type": "markdown",
   "metadata": {},
   "source": [
    "### Finding Out Null Entries"
   ]
  },
  {
   "cell_type": "code",
   "execution_count": 12,
   "metadata": {
    "collapsed": false,
    "scrolled": true
   },
   "outputs": [
    {
     "data": {
      "text/plain": [
       "0"
      ]
     },
     "execution_count": 12,
     "metadata": {},
     "output_type": "execute_result"
    }
   ],
   "source": [
    "dataframe.isnull().loc[True].sum()"
   ]
  },
  {
   "cell_type": "code",
   "execution_count": 13,
   "metadata": {
    "collapsed": true
   },
   "outputs": [],
   "source": [
    "dataframe_second = dataframe.copy(deep=True)"
   ]
  },
  {
   "cell_type": "code",
   "execution_count": 14,
   "metadata": {
    "collapsed": false
   },
   "outputs": [],
   "source": [
    "# you can also use data.sum(axis=1) here\n",
    "def dataframe_sampling(data):\n",
    "    ''' creates a sample fo the original dataframe\n",
    "        ---------------------\n",
    "        Parameters: dataframe\n",
    "        ---------------------\n",
    "        Return: dataframes\n",
    "    '''\n",
    "    dataframe_third = DataFrame(data.groupby(['username'])['subreddit'].value_counts().reset_index(level=0), \\\n",
    "                            columns=['username', 'subreddit'])\n",
    "    dataframe_third.rename(columns={'subreddit':'count'}, inplace=True)\n",
    "    dataframe_third = dataframe_third.reset_index()\n",
    "    data = dataframe_third.sample(frac=0.01)\n",
    "    data = data.reset_index()\n",
    "    data = data.drop('index', axis=1)\n",
    "    pivot_table = data.pivot('subreddit', 'username', 'count').reset_index()\n",
    "    pivot_table.fillna(value=0, inplace=True)\n",
    "    return dataframe_third, data, pivot_table\n",
    "\n",
    "dataframe_third, data, pivot_table = dataframe_sampling(dataframe_second)"
   ]
  },
  {
   "cell_type": "code",
   "execution_count": 15,
   "metadata": {
    "collapsed": false,
    "scrolled": true
   },
   "outputs": [
    {
     "data": {
      "text/plain": [
       "(3127,)"
      ]
     },
     "execution_count": 15,
     "metadata": {},
     "output_type": "execute_result"
    }
   ],
   "source": [
    "pivot_table.subreddit.shape"
   ]
  },
  {
   "cell_type": "markdown",
   "metadata": {},
   "source": [
    "### Popularity Based Collaborative Filtering Technique (PBCFT)"
   ]
  },
  {
   "cell_type": "code",
   "execution_count": 16,
   "metadata": {
    "collapsed": true
   },
   "outputs": [],
   "source": [
    "data2 = data.copy(deep=True)"
   ]
  },
  {
   "cell_type": "code",
   "execution_count": 17,
   "metadata": {
    "collapsed": false
   },
   "outputs": [],
   "source": [
    "def popularity_recommendation(data):\n",
    "    ''' provides a score to the highest subreddit and creates a dataframe\n",
    "        --------------------\n",
    "        Parameters: dataframe\n",
    "        --------------------\n",
    "        Return: dataframe\n",
    "    '''\n",
    "    item_grouped = data.groupby(['subreddit']).agg({'username': 'count'}).reset_index()\n",
    "    item_grouped.rename(columns={'username': 'score'}, inplace=True)\n",
    "    item_grouped_sorted = item_grouped.sort_values(['score', 'subreddit'], ascending=False)\n",
    "    item_grouped_sorted['rank'] = item_grouped_sorted['score'].rank(ascending=False, method='first')\n",
    "    popularity_recomm = item_grouped_sorted.head(10)\n",
    "    return popularity_recomm"
   ]
  },
  {
   "cell_type": "code",
   "execution_count": 18,
   "metadata": {
    "collapsed": false
   },
   "outputs": [],
   "source": [
    "popularity_recomm = popularity_recommendation(data2)"
   ]
  },
  {
   "cell_type": "code",
   "execution_count": 19,
   "metadata": {
    "collapsed": false
   },
   "outputs": [],
   "source": [
    "def recommend(recommend):\n",
    "    ''' Recommends the popular/ maximum-scored subreddit to the user\n",
    "        --------------------\n",
    "        Parameter: dataframe\n",
    "        --------------------\n",
    "        Return: dataframe\n",
    "    '''\n",
    "    recommend['username'] = raw_input('')\n",
    "    cols = recommend.columns.tolist()\n",
    "    cols = cols[-1:] + cols[:-1]\n",
    "    recommend = recommend[cols]\n",
    "    recommend.reset_index(inplace=True)\n",
    "    recommend = recommend.drop('index', axis=1)\n",
    "    return recommend"
   ]
  },
  {
   "cell_type": "code",
   "execution_count": 20,
   "metadata": {
    "collapsed": false,
    "scrolled": true
   },
   "outputs": [
    {
     "name": "stdout",
     "output_type": "stream",
     "text": [
      "--Sko--\n"
     ]
    },
    {
     "data": {
      "text/html": [
       "<div>\n",
       "<style>\n",
       "    .dataframe thead tr:only-child th {\n",
       "        text-align: right;\n",
       "    }\n",
       "\n",
       "    .dataframe thead th {\n",
       "        text-align: left;\n",
       "    }\n",
       "\n",
       "    .dataframe tbody tr th {\n",
       "        vertical-align: top;\n",
       "    }\n",
       "</style>\n",
       "<table border=\"1\" class=\"dataframe\">\n",
       "  <thead>\n",
       "    <tr style=\"text-align: right;\">\n",
       "      <th></th>\n",
       "      <th>username</th>\n",
       "      <th>subreddit</th>\n",
       "      <th>score</th>\n",
       "      <th>rank</th>\n",
       "    </tr>\n",
       "  </thead>\n",
       "  <tbody>\n",
       "    <tr>\n",
       "      <th>0</th>\n",
       "      <td>--Sko--</td>\n",
       "      <td>AskReddit</td>\n",
       "      <td>138</td>\n",
       "      <td>1.0</td>\n",
       "    </tr>\n",
       "    <tr>\n",
       "      <th>1</th>\n",
       "      <td>--Sko--</td>\n",
       "      <td>pics</td>\n",
       "      <td>120</td>\n",
       "      <td>2.0</td>\n",
       "    </tr>\n",
       "    <tr>\n",
       "      <th>2</th>\n",
       "      <td>--Sko--</td>\n",
       "      <td>funny</td>\n",
       "      <td>96</td>\n",
       "      <td>3.0</td>\n",
       "    </tr>\n",
       "    <tr>\n",
       "      <th>3</th>\n",
       "      <td>--Sko--</td>\n",
       "      <td>todayilearned</td>\n",
       "      <td>91</td>\n",
       "      <td>4.0</td>\n",
       "    </tr>\n",
       "    <tr>\n",
       "      <th>4</th>\n",
       "      <td>--Sko--</td>\n",
       "      <td>worldnews</td>\n",
       "      <td>89</td>\n",
       "      <td>5.0</td>\n",
       "    </tr>\n",
       "    <tr>\n",
       "      <th>5</th>\n",
       "      <td>--Sko--</td>\n",
       "      <td>gaming</td>\n",
       "      <td>85</td>\n",
       "      <td>6.0</td>\n",
       "    </tr>\n",
       "    <tr>\n",
       "      <th>6</th>\n",
       "      <td>--Sko--</td>\n",
       "      <td>videos</td>\n",
       "      <td>81</td>\n",
       "      <td>7.0</td>\n",
       "    </tr>\n",
       "    <tr>\n",
       "      <th>7</th>\n",
       "      <td>--Sko--</td>\n",
       "      <td>gifs</td>\n",
       "      <td>74</td>\n",
       "      <td>8.0</td>\n",
       "    </tr>\n",
       "    <tr>\n",
       "      <th>8</th>\n",
       "      <td>--Sko--</td>\n",
       "      <td>news</td>\n",
       "      <td>73</td>\n",
       "      <td>9.0</td>\n",
       "    </tr>\n",
       "    <tr>\n",
       "      <th>9</th>\n",
       "      <td>--Sko--</td>\n",
       "      <td>IAmA</td>\n",
       "      <td>73</td>\n",
       "      <td>10.0</td>\n",
       "    </tr>\n",
       "  </tbody>\n",
       "</table>\n",
       "</div>"
      ],
      "text/plain": [
       "  username      subreddit  score  rank\n",
       "0  --Sko--      AskReddit    138   1.0\n",
       "1  --Sko--           pics    120   2.0\n",
       "2  --Sko--          funny     96   3.0\n",
       "3  --Sko--  todayilearned     91   4.0\n",
       "4  --Sko--      worldnews     89   5.0\n",
       "5  --Sko--         gaming     85   6.0\n",
       "6  --Sko--         videos     81   7.0\n",
       "7  --Sko--           gifs     74   8.0\n",
       "8  --Sko--           news     73   9.0\n",
       "9  --Sko--           IAmA     73  10.0"
      ]
     },
     "execution_count": 20,
     "metadata": {},
     "output_type": "execute_result"
    }
   ],
   "source": [
    "recommend(popularity_recomm)"
   ]
  },
  {
   "cell_type": "markdown",
   "metadata": {},
   "source": [
    "* This method is biased towards the maximum occurence of the subreddits. Hence it will only recommend subreddits which is highly popular.\n",
    "* It does not provide personal wise recommendation based on the subreddit followed.\n",
    "* Can be useful in recommending hashtags to get maximum followers or get a good amount of reach."
   ]
  },
  {
   "cell_type": "markdown",
   "metadata": {},
   "source": [
    "### Item-Item Based Colaborative Filtering Technique (i-iBCFT)"
   ]
  },
  {
   "cell_type": "code",
   "execution_count": 21,
   "metadata": {
    "collapsed": false
   },
   "outputs": [],
   "source": [
    "def Distance_of_item(pivot, metric):\n",
    "    ''' Calculates the distances between two subreddits\n",
    "        and recommends based on the least distance they have\n",
    "        ------------------------\n",
    "        Parameters: dataframe, string\n",
    "        ------------------------\n",
    "        Return: dataframe\n",
    "    '''\n",
    "    item_pivot_table = pivot.drop('subreddit', axis=1)\n",
    "#     new_item_pivot_table = DataFrame(index=item_pivot_table.columns, columns=item_pivot_table.columns)\n",
    "#     item_pivot_table.fillna(0, inplace=True)\n",
    "    item_pivot_table_distances = 1 - pairwise_distances(item_pivot_table.as_matrix(), metric=metric)\n",
    "    new_item_pivot_table_distances = DataFrame(item_pivot_table_distances, columns=pivot.subreddit, index=pivot.subreddit)\n",
    "    return new_item_pivot_table_distances"
   ]
  },
  {
   "cell_type": "code",
   "execution_count": 22,
   "metadata": {
    "collapsed": false
   },
   "outputs": [
    {
     "data": {
      "text/html": [
       "<div>\n",
       "<style>\n",
       "    .dataframe thead tr:only-child th {\n",
       "        text-align: right;\n",
       "    }\n",
       "\n",
       "    .dataframe thead th {\n",
       "        text-align: left;\n",
       "    }\n",
       "\n",
       "    .dataframe tbody tr th {\n",
       "        vertical-align: top;\n",
       "    }\n",
       "</style>\n",
       "<table border=\"1\" class=\"dataframe\">\n",
       "  <thead>\n",
       "    <tr style=\"text-align: right;\">\n",
       "      <th>subreddit</th>\n",
       "      <th>0x10c</th>\n",
       "      <th>1200isplenty</th>\n",
       "      <th>12in12</th>\n",
       "      <th>18_19</th>\n",
       "      <th>1P_LSD</th>\n",
       "      <th>2007scape</th>\n",
       "      <th>2016Elections</th>\n",
       "      <th>2016Protest</th>\n",
       "      <th>2meirl4meirl</th>\n",
       "      <th>30ROCK</th>\n",
       "      <th>...</th>\n",
       "      <th>yesyesyesyesno</th>\n",
       "      <th>ynab</th>\n",
       "      <th>yoga</th>\n",
       "      <th>youdontsurf</th>\n",
       "      <th>youseeingthisshit</th>\n",
       "      <th>youtube</th>\n",
       "      <th>youtubehaiku</th>\n",
       "      <th>ytp</th>\n",
       "      <th>zelda</th>\n",
       "      <th>zyramains</th>\n",
       "    </tr>\n",
       "    <tr>\n",
       "      <th>subreddit</th>\n",
       "      <th></th>\n",
       "      <th></th>\n",
       "      <th></th>\n",
       "      <th></th>\n",
       "      <th></th>\n",
       "      <th></th>\n",
       "      <th></th>\n",
       "      <th></th>\n",
       "      <th></th>\n",
       "      <th></th>\n",
       "      <th></th>\n",
       "      <th></th>\n",
       "      <th></th>\n",
       "      <th></th>\n",
       "      <th></th>\n",
       "      <th></th>\n",
       "      <th></th>\n",
       "      <th></th>\n",
       "      <th></th>\n",
       "      <th></th>\n",
       "      <th></th>\n",
       "    </tr>\n",
       "  </thead>\n",
       "  <tbody>\n",
       "    <tr>\n",
       "      <th>0x10c</th>\n",
       "      <td>1.000000</td>\n",
       "      <td>-0.000196</td>\n",
       "      <td>-0.000155</td>\n",
       "      <td>-0.000155</td>\n",
       "      <td>-0.000155</td>\n",
       "      <td>-0.000219</td>\n",
       "      <td>-0.000155</td>\n",
       "      <td>-0.000155</td>\n",
       "      <td>-0.000295</td>\n",
       "      <td>-0.000155</td>\n",
       "      <td>...</td>\n",
       "      <td>-0.000155</td>\n",
       "      <td>-0.000155</td>\n",
       "      <td>-0.000188</td>\n",
       "      <td>-0.000289</td>\n",
       "      <td>-0.000294</td>\n",
       "      <td>-0.000211</td>\n",
       "      <td>-0.000280</td>\n",
       "      <td>-0.000155</td>\n",
       "      <td>-0.000214</td>\n",
       "      <td>-0.000155</td>\n",
       "    </tr>\n",
       "    <tr>\n",
       "      <th>1200isplenty</th>\n",
       "      <td>-0.000196</td>\n",
       "      <td>1.000000</td>\n",
       "      <td>-0.000196</td>\n",
       "      <td>-0.000196</td>\n",
       "      <td>-0.000196</td>\n",
       "      <td>-0.000277</td>\n",
       "      <td>-0.000196</td>\n",
       "      <td>-0.000196</td>\n",
       "      <td>-0.000373</td>\n",
       "      <td>-0.000196</td>\n",
       "      <td>...</td>\n",
       "      <td>-0.000196</td>\n",
       "      <td>-0.000196</td>\n",
       "      <td>-0.000238</td>\n",
       "      <td>-0.000365</td>\n",
       "      <td>-0.000372</td>\n",
       "      <td>-0.000266</td>\n",
       "      <td>-0.000354</td>\n",
       "      <td>-0.000196</td>\n",
       "      <td>-0.000271</td>\n",
       "      <td>-0.000196</td>\n",
       "    </tr>\n",
       "    <tr>\n",
       "      <th>12in12</th>\n",
       "      <td>-0.000155</td>\n",
       "      <td>-0.000196</td>\n",
       "      <td>1.000000</td>\n",
       "      <td>-0.000155</td>\n",
       "      <td>-0.000155</td>\n",
       "      <td>-0.000219</td>\n",
       "      <td>-0.000155</td>\n",
       "      <td>-0.000155</td>\n",
       "      <td>-0.000295</td>\n",
       "      <td>-0.000155</td>\n",
       "      <td>...</td>\n",
       "      <td>-0.000155</td>\n",
       "      <td>-0.000155</td>\n",
       "      <td>-0.000188</td>\n",
       "      <td>-0.000289</td>\n",
       "      <td>-0.000294</td>\n",
       "      <td>-0.000211</td>\n",
       "      <td>-0.000280</td>\n",
       "      <td>-0.000155</td>\n",
       "      <td>-0.000214</td>\n",
       "      <td>-0.000155</td>\n",
       "    </tr>\n",
       "    <tr>\n",
       "      <th>18_19</th>\n",
       "      <td>-0.000155</td>\n",
       "      <td>-0.000196</td>\n",
       "      <td>-0.000155</td>\n",
       "      <td>1.000000</td>\n",
       "      <td>-0.000155</td>\n",
       "      <td>-0.000219</td>\n",
       "      <td>-0.000155</td>\n",
       "      <td>-0.000155</td>\n",
       "      <td>-0.000295</td>\n",
       "      <td>-0.000155</td>\n",
       "      <td>...</td>\n",
       "      <td>-0.000155</td>\n",
       "      <td>-0.000155</td>\n",
       "      <td>-0.000188</td>\n",
       "      <td>-0.000289</td>\n",
       "      <td>-0.000294</td>\n",
       "      <td>-0.000211</td>\n",
       "      <td>-0.000280</td>\n",
       "      <td>-0.000155</td>\n",
       "      <td>-0.000214</td>\n",
       "      <td>-0.000155</td>\n",
       "    </tr>\n",
       "    <tr>\n",
       "      <th>1P_LSD</th>\n",
       "      <td>-0.000155</td>\n",
       "      <td>-0.000196</td>\n",
       "      <td>-0.000155</td>\n",
       "      <td>-0.000155</td>\n",
       "      <td>1.000000</td>\n",
       "      <td>-0.000219</td>\n",
       "      <td>-0.000155</td>\n",
       "      <td>-0.000155</td>\n",
       "      <td>-0.000295</td>\n",
       "      <td>-0.000155</td>\n",
       "      <td>...</td>\n",
       "      <td>-0.000155</td>\n",
       "      <td>-0.000155</td>\n",
       "      <td>-0.000188</td>\n",
       "      <td>-0.000289</td>\n",
       "      <td>-0.000294</td>\n",
       "      <td>-0.000211</td>\n",
       "      <td>-0.000280</td>\n",
       "      <td>-0.000155</td>\n",
       "      <td>-0.000214</td>\n",
       "      <td>-0.000155</td>\n",
       "    </tr>\n",
       "  </tbody>\n",
       "</table>\n",
       "<p>5 rows × 3127 columns</p>\n",
       "</div>"
      ],
      "text/plain": [
       "subreddit        0x10c  1200isplenty    12in12     18_19    1P_LSD  2007scape  \\\n",
       "subreddit                                                                       \n",
       "0x10c         1.000000     -0.000196 -0.000155 -0.000155 -0.000155  -0.000219   \n",
       "1200isplenty -0.000196      1.000000 -0.000196 -0.000196 -0.000196  -0.000277   \n",
       "12in12       -0.000155     -0.000196  1.000000 -0.000155 -0.000155  -0.000219   \n",
       "18_19        -0.000155     -0.000196 -0.000155  1.000000 -0.000155  -0.000219   \n",
       "1P_LSD       -0.000155     -0.000196 -0.000155 -0.000155  1.000000  -0.000219   \n",
       "\n",
       "subreddit     2016Elections  2016Protest  2meirl4meirl    30ROCK    ...      \\\n",
       "subreddit                                                           ...       \n",
       "0x10c             -0.000155    -0.000155     -0.000295 -0.000155    ...       \n",
       "1200isplenty      -0.000196    -0.000196     -0.000373 -0.000196    ...       \n",
       "12in12            -0.000155    -0.000155     -0.000295 -0.000155    ...       \n",
       "18_19             -0.000155    -0.000155     -0.000295 -0.000155    ...       \n",
       "1P_LSD            -0.000155    -0.000155     -0.000295 -0.000155    ...       \n",
       "\n",
       "subreddit     yesyesyesyesno      ynab      yoga  youdontsurf  \\\n",
       "subreddit                                                       \n",
       "0x10c              -0.000155 -0.000155 -0.000188    -0.000289   \n",
       "1200isplenty       -0.000196 -0.000196 -0.000238    -0.000365   \n",
       "12in12             -0.000155 -0.000155 -0.000188    -0.000289   \n",
       "18_19              -0.000155 -0.000155 -0.000188    -0.000289   \n",
       "1P_LSD             -0.000155 -0.000155 -0.000188    -0.000289   \n",
       "\n",
       "subreddit     youseeingthisshit   youtube  youtubehaiku       ytp     zelda  \\\n",
       "subreddit                                                                     \n",
       "0x10c                 -0.000294 -0.000211     -0.000280 -0.000155 -0.000214   \n",
       "1200isplenty          -0.000372 -0.000266     -0.000354 -0.000196 -0.000271   \n",
       "12in12                -0.000294 -0.000211     -0.000280 -0.000155 -0.000214   \n",
       "18_19                 -0.000294 -0.000211     -0.000280 -0.000155 -0.000214   \n",
       "1P_LSD                -0.000294 -0.000211     -0.000280 -0.000155 -0.000214   \n",
       "\n",
       "subreddit     zyramains  \n",
       "subreddit                \n",
       "0x10c         -0.000155  \n",
       "1200isplenty  -0.000196  \n",
       "12in12        -0.000155  \n",
       "18_19         -0.000155  \n",
       "1P_LSD        -0.000155  \n",
       "\n",
       "[5 rows x 3127 columns]"
      ]
     },
     "execution_count": 22,
     "metadata": {},
     "output_type": "execute_result"
    }
   ],
   "source": [
    "new_item_pivot_table_correlation_distances = Distance_of_item(pivot_table, 'correlation')\n",
    "new_item_pivot_table_correlation_distances.head()"
   ]
  },
  {
   "cell_type": "code",
   "execution_count": 23,
   "metadata": {
    "collapsed": false
   },
   "outputs": [
    {
     "data": {
      "text/plain": [
       "subreddit\n",
       "soccer                 1.000000\n",
       "EdmontonOilers         0.050877\n",
       "facepalm               0.021906\n",
       "Colts                  0.004604\n",
       "thenewcoldwar          0.002169\n",
       "torrents               0.002169\n",
       "nattyorjuice           0.002169\n",
       "FloridaGators          0.002047\n",
       "BikiniBottomTwitter    0.001821\n",
       "drunk                  0.000543\n",
       "Name: soccer, dtype: float64"
      ]
     },
     "execution_count": 23,
     "metadata": {},
     "output_type": "execute_result"
    }
   ],
   "source": [
    "new_item_pivot_table_correlation_distances.soccer.sort_values(ascending=False)[0:10]"
   ]
  },
  {
   "cell_type": "code",
   "execution_count": 24,
   "metadata": {
    "collapsed": true
   },
   "outputs": [],
   "source": [
    "new_item_pivot_table_cosine_distances = Distance_of_item(pivot_table, 'cosine')"
   ]
  },
  {
   "cell_type": "code",
   "execution_count": 25,
   "metadata": {
    "collapsed": false
   },
   "outputs": [
    {
     "data": {
      "text/plain": [
       "subreddit\n",
       "soccer                 1.000000\n",
       "EdmontonOilers         0.051128\n",
       "facepalm               0.022746\n",
       "Colts                  0.004869\n",
       "torrents               0.002435\n",
       "thenewcoldwar          0.002435\n",
       "nattyorjuice           0.002435\n",
       "FloridaGators          0.002368\n",
       "BikiniBottomTwitter    0.002178\n",
       "drunk                  0.000918\n",
       "Name: soccer, dtype: float64"
      ]
     },
     "execution_count": 25,
     "metadata": {},
     "output_type": "execute_result"
    }
   ],
   "source": [
    "new_item_pivot_table_cosine_distances.soccer.sort_values(ascending=False)[0:10]"
   ]
  },
  {
   "cell_type": "code",
   "execution_count": 26,
   "metadata": {
    "collapsed": true
   },
   "outputs": [],
   "source": [
    "new_item_pivot_table_jaccard_distances = Distance_of_item(pivot_table, 'jaccard')"
   ]
  },
  {
   "cell_type": "code",
   "execution_count": 27,
   "metadata": {
    "collapsed": false
   },
   "outputs": [
    {
     "data": {
      "text/plain": [
       "subreddit\n",
       "soccer                 1.000000\n",
       "Colts                  0.045455\n",
       "torrents               0.045455\n",
       "EdmontonOilers         0.045455\n",
       "thenewcoldwar          0.045455\n",
       "nattyorjuice           0.045455\n",
       "Costco                 0.043478\n",
       "FloridaGators          0.043478\n",
       "BikiniBottomTwitter    0.043478\n",
       "drunk                  0.040000\n",
       "Name: soccer, dtype: float64"
      ]
     },
     "execution_count": 27,
     "metadata": {},
     "output_type": "execute_result"
    }
   ],
   "source": [
    "new_item_pivot_table_jaccard_distances.soccer.sort_values(ascending=False)[0:10]"
   ]
  },
  {
   "cell_type": "markdown",
   "metadata": {
    "collapsed": true
   },
   "source": [
    "* This approach is better than the previous one as it recommends based on the nearness of a subreddit with the other\n",
    "* It still does not do a good job as those who are following the 'soccer' subreddit are getting recommendations of 'torrents' and 'drunk' (for Example) which are not related. \n",
    "* This technique will be helpful if one wants to show other hashtags which have been used by people who have also used these hashtags."
   ]
  },
  {
   "cell_type": "code",
   "execution_count": null,
   "metadata": {
    "collapsed": true
   },
   "outputs": [],
   "source": []
  }
 ],
 "metadata": {
  "kernelspec": {
   "display_name": "Python [greyatom]",
   "language": "python",
   "name": "Python [greyatom]"
  },
  "language_info": {
   "codemirror_mode": {
    "name": "ipython",
    "version": 2
   },
   "file_extension": ".py",
   "mimetype": "text/x-python",
   "name": "python",
   "nbconvert_exporter": "python",
   "pygments_lexer": "ipython2",
   "version": "2.7.13"
  }
 },
 "nbformat": 4,
 "nbformat_minor": 0
}
