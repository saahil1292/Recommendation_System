{
 "cells": [
  {
   "cell_type": "code",
   "execution_count": 10,
   "metadata": {
    "collapsed": false
   },
   "outputs": [],
   "source": [
    "# Future Imports\n",
    "from __future__ import division, print_function, absolute_import, unicode_literals\n",
    "\n",
    "# Data Cleaning\n",
    "from pandas import read_csv, DataFrame, pivot_table\n",
    "from numpy import NaN, array\n",
    "\n",
    "# Pairwise-Distance\n",
    "from sklearn.metrics.pairwise import pairwise_distances\n",
    "from scipy.spatial.distance import correlation\n",
    "\n",
    "# Data Visualization\n",
    "import matplotlib.pyplot as plt\n",
    "%matplotlib inline\n",
    "import seaborn as sns\n",
    "\n",
    "# Removing Warnings\n",
    "import warnings\n",
    "warnings.filterwarnings('ignore')"
   ]
  },
  {
   "cell_type": "code",
   "execution_count": 2,
   "metadata": {
    "collapsed": true
   },
   "outputs": [],
   "source": [
    "def dataset_load(filepath):\n",
    "    \n",
    "    filepath = \"./\" +filepath+ '.csv'\n",
    "    dataframe = read_csv(filepath)\n",
    "    return dataframe\n",
    "\n",
    "dataframe = dataset_load('reddit_data')"
   ]
  },
  {
   "cell_type": "code",
   "execution_count": null,
   "metadata": {
    "collapsed": false
   },
   "outputs": [],
   "source": [
    "dataframe.head()"
   ]
  },
  {
   "cell_type": "code",
   "execution_count": null,
   "metadata": {
    "collapsed": false
   },
   "outputs": [],
   "source": [
    "dataframe.info()"
   ]
  },
  {
   "cell_type": "code",
   "execution_count": null,
   "metadata": {
    "collapsed": false
   },
   "outputs": [],
   "source": [
    "dataframe.describe(include=['O'])"
   ]
  },
  {
   "cell_type": "markdown",
   "metadata": {},
   "source": [
    "#### Total Number of Unique Users are 22610\n",
    "#### Total Number of Unique Subreddits are 34967"
   ]
  },
  {
   "cell_type": "code",
   "execution_count": null,
   "metadata": {
    "collapsed": false
   },
   "outputs": [],
   "source": [
    "username = dataframe.groupby(['username'])['subreddit'].nunique() #.value_counts()"
   ]
  },
  {
   "cell_type": "code",
   "execution_count": null,
   "metadata": {
    "collapsed": false
   },
   "outputs": [],
   "source": [
    "subreddits = dataframe.groupby(['subreddit'])['username'].nunique()"
   ]
  },
  {
   "cell_type": "code",
   "execution_count": null,
   "metadata": {
    "collapsed": false
   },
   "outputs": [],
   "source": [
    "top_ten_users = username.sort_values(ascending=False)[:10]"
   ]
  },
  {
   "cell_type": "markdown",
   "metadata": {},
   "source": [
    "### Users with highest Subreddit Count"
   ]
  },
  {
   "cell_type": "code",
   "execution_count": null,
   "metadata": {
    "collapsed": false
   },
   "outputs": [],
   "source": [
    "p = top_ten_users.plot(kind='bar', figsize=(12,5), color=sns.color_palette()[0], fontsize=10)\n",
    "_ = p.set(xlabel='Username', ylabel='Count of SubReddits')"
   ]
  },
  {
   "cell_type": "code",
   "execution_count": null,
   "metadata": {
    "collapsed": true
   },
   "outputs": [],
   "source": [
    "top_ten_subreddits = subreddits.sort_values(ascending=False)[:10]"
   ]
  },
  {
   "cell_type": "markdown",
   "metadata": {},
   "source": [
    "### Subreddits with highest Frequency"
   ]
  },
  {
   "cell_type": "code",
   "execution_count": null,
   "metadata": {
    "collapsed": false
   },
   "outputs": [],
   "source": [
    "p = top_ten_subreddits.plot(kind='bar', figsize=(12,5), color=sns.color_palette()[3], fontsize=10)\n",
    "_ = p.set(ylabel='Count of Users', xlabel='SubReddits')"
   ]
  },
  {
   "cell_type": "markdown",
   "metadata": {},
   "source": [
    "### Finding Out Null Entries"
   ]
  },
  {
   "cell_type": "code",
   "execution_count": null,
   "metadata": {
    "collapsed": false,
    "scrolled": true
   },
   "outputs": [],
   "source": [
    "dataframe.isnull().loc[True].sum()"
   ]
  },
  {
   "cell_type": "code",
   "execution_count": 45,
   "metadata": {
    "collapsed": true
   },
   "outputs": [],
   "source": [
    "dataframe_second = dataframe.copy(deep=True)"
   ]
  },
  {
   "cell_type": "code",
   "execution_count": 47,
   "metadata": {
    "collapsed": false
   },
   "outputs": [],
   "source": [
    "# you can also use data.sum(axis=1) here\n",
    "def dataframe_sampling(data):\n",
    "    dataframe_third = DataFrame(data.groupby(['username'])['subreddit'].value_counts().reset_index(level=0), \\\n",
    "                            columns=['username', 'subreddit'])\n",
    "    dataframe_third.rename(columns={'subreddit':'count'}, inplace=True)\n",
    "    dataframe_third = dataframe_third.reset_index()\n",
    "    data = dataframe_third.sample(frac=0.01)\n",
    "    data = data.reset_index()\n",
    "    data = data.drop('index', axis=1)\n",
    "    pivot_table = data.pivot('subreddit', 'username', 'count').reset_index()\n",
    "    pivot_table.fillna(value=0, inplace=True)\n",
    "    return dataframe_third, data, pivot_table\n",
    "\n",
    "dataframe_third, data, pivot_table = dataframe_sampling(dataframe_second)"
   ]
  },
  {
   "cell_type": "code",
   "execution_count": 50,
   "metadata": {
    "collapsed": false,
    "scrolled": true
   },
   "outputs": [
    {
     "data": {
      "text/plain": [
       "(3160,)"
      ]
     },
     "execution_count": 50,
     "metadata": {},
     "output_type": "execute_result"
    }
   ],
   "source": [
    "pivot_table.subreddit.shape"
   ]
  },
  {
   "cell_type": "markdown",
   "metadata": {},
   "source": [
    "### Popularity Based Collaborative Filtering Technique (PBCFT)"
   ]
  },
  {
   "cell_type": "code",
   "execution_count": 5,
   "metadata": {
    "collapsed": true
   },
   "outputs": [],
   "source": [
    "data2 = data.copy(deep=True)"
   ]
  },
  {
   "cell_type": "code",
   "execution_count": 6,
   "metadata": {
    "collapsed": false
   },
   "outputs": [],
   "source": [
    "def popularity_recommendation(data):\n",
    "    item_grouped = data.groupby(['subreddit']).agg({'username': 'count'}).reset_index()\n",
    "    item_grouped.rename(columns={'username': 'score'}, inplace=True)\n",
    "    item_grouped_sorted = item_grouped.sort_values(['score', 'subreddit'], ascending=False)\n",
    "    item_grouped_sorted['rank'] = item_grouped_sorted['score'].rank(ascending=False, method='first')\n",
    "    popularity_recomm = item_grouped_sorted.head(10)\n",
    "    return popularity_recomm"
   ]
  },
  {
   "cell_type": "code",
   "execution_count": null,
   "metadata": {
    "collapsed": false
   },
   "outputs": [],
   "source": [
    "popularity_recomm = popularity_recommendation(data2)"
   ]
  },
  {
   "cell_type": "code",
   "execution_count": null,
   "metadata": {
    "collapsed": false
   },
   "outputs": [],
   "source": [
    "def recommend(recommend):\n",
    "    recommend['username'] = raw_input('')\n",
    "    cols = recommend.columns.tolist()\n",
    "    cols = cols[-1:] + cols[:-1]\n",
    "    recommend = recommend[cols]\n",
    "    recommend.reset_index(inplace=True)\n",
    "    recommend = recommend.drop('index', axis=1)\n",
    "    return recommend"
   ]
  },
  {
   "cell_type": "code",
   "execution_count": null,
   "metadata": {
    "collapsed": false
   },
   "outputs": [],
   "source": [
    "recommend(popularity_recomm)"
   ]
  },
  {
   "cell_type": "markdown",
   "metadata": {},
   "source": [
    "### Item-Item Based Colaborative Filtering Technique (i-iBCFT)"
   ]
  },
  {
   "cell_type": "code",
   "execution_count": 71,
   "metadata": {
    "collapsed": false
   },
   "outputs": [],
   "source": [
    "def Distance_of_item(pivot, metric):\n",
    "    item_pivot_table = pivot.drop('subreddit', axis=1)\n",
    "#     new_item_pivot_table = DataFrame(index=item_pivot_table.columns, columns=item_pivot_table.columns)\n",
    "#     item_pivot_table.fillna(0, inplace=True)\n",
    "    item_pivot_table_distances = 1 - pairwise_distances(item_pivot_table.as_matrix(), metric=metric)\n",
    "    new_item_pivot_table_distances = DataFrame(item_pivot_table_distances, columns=pivot.subreddit, index=pivot.subreddit)\n",
    "    return new_item_pivot_table_distances"
   ]
  },
  {
   "cell_type": "code",
   "execution_count": 76,
   "metadata": {
    "collapsed": false
   },
   "outputs": [
    {
     "data": {
      "text/html": [
       "<div>\n",
       "<style>\n",
       "    .dataframe thead tr:only-child th {\n",
       "        text-align: right;\n",
       "    }\n",
       "\n",
       "    .dataframe thead th {\n",
       "        text-align: left;\n",
       "    }\n",
       "\n",
       "    .dataframe tbody tr th {\n",
       "        vertical-align: top;\n",
       "    }\n",
       "</style>\n",
       "<table border=\"1\" class=\"dataframe\">\n",
       "  <thead>\n",
       "    <tr style=\"text-align: right;\">\n",
       "      <th>subreddit</th>\n",
       "      <th>1200isplenty</th>\n",
       "      <th>195</th>\n",
       "      <th>2007scape</th>\n",
       "      <th>22lr</th>\n",
       "      <th>240sx</th>\n",
       "      <th>24hoursupport</th>\n",
       "      <th>2meirl4meirl</th>\n",
       "      <th>30ROCK</th>\n",
       "      <th>365PhotoProject</th>\n",
       "      <th>3DS</th>\n",
       "      <th>...</th>\n",
       "      <th>youtube</th>\n",
       "      <th>youtubehaiku</th>\n",
       "      <th>yoyhammer</th>\n",
       "      <th>yugijerk</th>\n",
       "      <th>yugioh</th>\n",
       "      <th>yuri</th>\n",
       "      <th>yuruyuri</th>\n",
       "      <th>zelda</th>\n",
       "      <th>zooeydeschanel</th>\n",
       "      <th>zsh</th>\n",
       "    </tr>\n",
       "    <tr>\n",
       "      <th>subreddit</th>\n",
       "      <th></th>\n",
       "      <th></th>\n",
       "      <th></th>\n",
       "      <th></th>\n",
       "      <th></th>\n",
       "      <th></th>\n",
       "      <th></th>\n",
       "      <th></th>\n",
       "      <th></th>\n",
       "      <th></th>\n",
       "      <th></th>\n",
       "      <th></th>\n",
       "      <th></th>\n",
       "      <th></th>\n",
       "      <th></th>\n",
       "      <th></th>\n",
       "      <th></th>\n",
       "      <th></th>\n",
       "      <th></th>\n",
       "      <th></th>\n",
       "      <th></th>\n",
       "    </tr>\n",
       "  </thead>\n",
       "  <tbody>\n",
       "    <tr>\n",
       "      <th>1200isplenty</th>\n",
       "      <td>1.000000</td>\n",
       "      <td>-0.000158</td>\n",
       "      <td>-0.000183</td>\n",
       "      <td>-0.000158</td>\n",
       "      <td>-0.000158</td>\n",
       "      <td>-0.000256</td>\n",
       "      <td>-0.000162</td>\n",
       "      <td>-0.000223</td>\n",
       "      <td>-0.000158</td>\n",
       "      <td>-0.000158</td>\n",
       "      <td>...</td>\n",
       "      <td>-0.000158</td>\n",
       "      <td>-0.000329</td>\n",
       "      <td>-0.000158</td>\n",
       "      <td>-0.000158</td>\n",
       "      <td>-0.000158</td>\n",
       "      <td>-0.000158</td>\n",
       "      <td>-0.000158</td>\n",
       "      <td>-0.000158</td>\n",
       "      <td>-0.000158</td>\n",
       "      <td>-0.000158</td>\n",
       "    </tr>\n",
       "    <tr>\n",
       "      <th>195</th>\n",
       "      <td>-0.000158</td>\n",
       "      <td>1.000000</td>\n",
       "      <td>-0.000183</td>\n",
       "      <td>-0.000158</td>\n",
       "      <td>-0.000158</td>\n",
       "      <td>-0.000256</td>\n",
       "      <td>-0.000162</td>\n",
       "      <td>-0.000223</td>\n",
       "      <td>-0.000158</td>\n",
       "      <td>-0.000158</td>\n",
       "      <td>...</td>\n",
       "      <td>-0.000158</td>\n",
       "      <td>-0.000329</td>\n",
       "      <td>-0.000158</td>\n",
       "      <td>-0.000158</td>\n",
       "      <td>-0.000158</td>\n",
       "      <td>-0.000158</td>\n",
       "      <td>-0.000158</td>\n",
       "      <td>-0.000158</td>\n",
       "      <td>-0.000158</td>\n",
       "      <td>-0.000158</td>\n",
       "    </tr>\n",
       "    <tr>\n",
       "      <th>2007scape</th>\n",
       "      <td>-0.000183</td>\n",
       "      <td>-0.000183</td>\n",
       "      <td>1.000000</td>\n",
       "      <td>-0.000183</td>\n",
       "      <td>-0.000183</td>\n",
       "      <td>-0.000297</td>\n",
       "      <td>-0.000188</td>\n",
       "      <td>-0.000259</td>\n",
       "      <td>-0.000183</td>\n",
       "      <td>-0.000183</td>\n",
       "      <td>...</td>\n",
       "      <td>-0.000183</td>\n",
       "      <td>-0.000382</td>\n",
       "      <td>-0.000183</td>\n",
       "      <td>-0.000183</td>\n",
       "      <td>-0.000183</td>\n",
       "      <td>-0.000183</td>\n",
       "      <td>-0.000183</td>\n",
       "      <td>-0.000183</td>\n",
       "      <td>-0.000183</td>\n",
       "      <td>-0.000183</td>\n",
       "    </tr>\n",
       "    <tr>\n",
       "      <th>22lr</th>\n",
       "      <td>-0.000158</td>\n",
       "      <td>-0.000158</td>\n",
       "      <td>-0.000183</td>\n",
       "      <td>1.000000</td>\n",
       "      <td>-0.000158</td>\n",
       "      <td>-0.000256</td>\n",
       "      <td>-0.000162</td>\n",
       "      <td>-0.000223</td>\n",
       "      <td>-0.000158</td>\n",
       "      <td>-0.000158</td>\n",
       "      <td>...</td>\n",
       "      <td>-0.000158</td>\n",
       "      <td>-0.000329</td>\n",
       "      <td>-0.000158</td>\n",
       "      <td>-0.000158</td>\n",
       "      <td>-0.000158</td>\n",
       "      <td>-0.000158</td>\n",
       "      <td>-0.000158</td>\n",
       "      <td>-0.000158</td>\n",
       "      <td>-0.000158</td>\n",
       "      <td>-0.000158</td>\n",
       "    </tr>\n",
       "    <tr>\n",
       "      <th>240sx</th>\n",
       "      <td>-0.000158</td>\n",
       "      <td>-0.000158</td>\n",
       "      <td>-0.000183</td>\n",
       "      <td>-0.000158</td>\n",
       "      <td>1.000000</td>\n",
       "      <td>-0.000256</td>\n",
       "      <td>-0.000162</td>\n",
       "      <td>-0.000223</td>\n",
       "      <td>-0.000158</td>\n",
       "      <td>-0.000158</td>\n",
       "      <td>...</td>\n",
       "      <td>-0.000158</td>\n",
       "      <td>-0.000329</td>\n",
       "      <td>-0.000158</td>\n",
       "      <td>-0.000158</td>\n",
       "      <td>-0.000158</td>\n",
       "      <td>-0.000158</td>\n",
       "      <td>-0.000158</td>\n",
       "      <td>-0.000158</td>\n",
       "      <td>-0.000158</td>\n",
       "      <td>-0.000158</td>\n",
       "    </tr>\n",
       "  </tbody>\n",
       "</table>\n",
       "<p>5 rows × 3160 columns</p>\n",
       "</div>"
      ],
      "text/plain": [
       "subreddit     1200isplenty       195  2007scape      22lr     240sx  \\\n",
       "subreddit                                                             \n",
       "1200isplenty      1.000000 -0.000158  -0.000183 -0.000158 -0.000158   \n",
       "195              -0.000158  1.000000  -0.000183 -0.000158 -0.000158   \n",
       "2007scape        -0.000183 -0.000183   1.000000 -0.000183 -0.000183   \n",
       "22lr             -0.000158 -0.000158  -0.000183  1.000000 -0.000158   \n",
       "240sx            -0.000158 -0.000158  -0.000183 -0.000158  1.000000   \n",
       "\n",
       "subreddit     24hoursupport  2meirl4meirl    30ROCK  365PhotoProject  \\\n",
       "subreddit                                                              \n",
       "1200isplenty      -0.000256     -0.000162 -0.000223        -0.000158   \n",
       "195               -0.000256     -0.000162 -0.000223        -0.000158   \n",
       "2007scape         -0.000297     -0.000188 -0.000259        -0.000183   \n",
       "22lr              -0.000256     -0.000162 -0.000223        -0.000158   \n",
       "240sx             -0.000256     -0.000162 -0.000223        -0.000158   \n",
       "\n",
       "subreddit          3DS    ...      youtube  youtubehaiku  yoyhammer  yugijerk  \\\n",
       "subreddit                 ...                                                   \n",
       "1200isplenty -0.000158    ...    -0.000158     -0.000329  -0.000158 -0.000158   \n",
       "195          -0.000158    ...    -0.000158     -0.000329  -0.000158 -0.000158   \n",
       "2007scape    -0.000183    ...    -0.000183     -0.000382  -0.000183 -0.000183   \n",
       "22lr         -0.000158    ...    -0.000158     -0.000329  -0.000158 -0.000158   \n",
       "240sx        -0.000158    ...    -0.000158     -0.000329  -0.000158 -0.000158   \n",
       "\n",
       "subreddit       yugioh      yuri  yuruyuri     zelda  zooeydeschanel       zsh  \n",
       "subreddit                                                                       \n",
       "1200isplenty -0.000158 -0.000158 -0.000158 -0.000158       -0.000158 -0.000158  \n",
       "195          -0.000158 -0.000158 -0.000158 -0.000158       -0.000158 -0.000158  \n",
       "2007scape    -0.000183 -0.000183 -0.000183 -0.000183       -0.000183 -0.000183  \n",
       "22lr         -0.000158 -0.000158 -0.000158 -0.000158       -0.000158 -0.000158  \n",
       "240sx        -0.000158 -0.000158 -0.000158 -0.000158       -0.000158 -0.000158  \n",
       "\n",
       "[5 rows x 3160 columns]"
      ]
     },
     "execution_count": 76,
     "metadata": {},
     "output_type": "execute_result"
    }
   ],
   "source": [
    "new_item_pivot_table_correlation_distances = Distance_of_item(pivot_table, 'correlation')\n",
    "new_item_pivot_table_correlation_distances.head()"
   ]
  },
  {
   "cell_type": "code",
   "execution_count": 77,
   "metadata": {
    "collapsed": false
   },
   "outputs": [
    {
     "data": {
      "text/plain": [
       "subreddit\n",
       "soccer              1.000000\n",
       "notinteresting      0.047670\n",
       "madlads             0.004427\n",
       "PS4                 0.002086\n",
       "MarksmanMains       0.001703\n",
       "NoMansSkyTheGame    0.000422\n",
       "cringe              0.000304\n",
       "playstation         0.000087\n",
       "INTP               -0.000354\n",
       "Hotwife            -0.000354\n",
       "Name: soccer, dtype: float64"
      ]
     },
     "execution_count": 77,
     "metadata": {},
     "output_type": "execute_result"
    }
   ],
   "source": [
    "new_item_pivot_table_correlation_distances.soccer.sort_values(ascending=False)[0:10]"
   ]
  },
  {
   "cell_type": "code",
   "execution_count": 75,
   "metadata": {
    "collapsed": true
   },
   "outputs": [],
   "source": [
    "new_item_pivot_table_cosine_distances = Distance_of_item(pivot_table, 'cosine')"
   ]
  },
  {
   "cell_type": "code",
   "execution_count": 78,
   "metadata": {
    "collapsed": false
   },
   "outputs": [
    {
     "data": {
      "text/plain": [
       "subreddit\n",
       "soccer              1.000000\n",
       "notinteresting      0.048160\n",
       "madlads             0.005483\n",
       "PS4                 0.002927\n",
       "MarksmanMains       0.002056\n",
       "NoMansSkyTheGame    0.001282\n",
       "cringe              0.001095\n",
       "playstation         0.000620\n",
       "gaming              0.000011\n",
       "Phlebology          0.000000\n",
       "Name: soccer, dtype: float64"
      ]
     },
     "execution_count": 78,
     "metadata": {},
     "output_type": "execute_result"
    }
   ],
   "source": [
    "new_item_pivot_table_cosine_distances.soccer.sort_values(ascending=False)[0:10]"
   ]
  },
  {
   "cell_type": "code",
   "execution_count": 79,
   "metadata": {
    "collapsed": true
   },
   "outputs": [],
   "source": [
    "new_item_pivot_table_jaccard_distances = Distance_of_item(pivot_table, 'jaccard')"
   ]
  },
  {
   "cell_type": "code",
   "execution_count": 80,
   "metadata": {
    "collapsed": false
   },
   "outputs": [
    {
     "data": {
      "text/plain": [
       "subreddit\n",
       "soccer              1.000000\n",
       "MarksmanMains       0.062500\n",
       "playstation         0.055556\n",
       "notinteresting      0.047619\n",
       "cringe              0.037037\n",
       "madlads             0.037037\n",
       "PS4                 0.037037\n",
       "NoMansSkyTheGame    0.037037\n",
       "gaming              0.009524\n",
       "Phlebology          0.000000\n",
       "Name: soccer, dtype: float64"
      ]
     },
     "execution_count": 80,
     "metadata": {},
     "output_type": "execute_result"
    }
   ],
   "source": [
    "new_item_pivot_table_jaccard_distances.soccer.sort_values(ascending=False)[0:10]"
   ]
  },
  {
   "cell_type": "code",
   "execution_count": null,
   "metadata": {
    "collapsed": true
   },
   "outputs": [],
   "source": []
  }
 ],
 "metadata": {
  "kernelspec": {
   "display_name": "Python [greyatom]",
   "language": "python",
   "name": "Python [greyatom]"
  },
  "language_info": {
   "codemirror_mode": {
    "name": "ipython",
    "version": 2
   },
   "file_extension": ".py",
   "mimetype": "text/x-python",
   "name": "python",
   "nbconvert_exporter": "python",
   "pygments_lexer": "ipython2",
   "version": "2.7.13"
  }
 },
 "nbformat": 4,
 "nbformat_minor": 0
}
